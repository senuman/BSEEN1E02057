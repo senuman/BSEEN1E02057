{
 "cells": [
  {
   "cell_type": "code",
   "execution_count": 2,
   "id": "4a3354d4",
   "metadata": {},
   "outputs": [
    {
     "name": "stdout",
     "output_type": "stream",
     "text": [
      "The first and last numbers in list_x are the same.\n",
      "The first and last numbers in list_y are not the same.\n"
     ]
    }
   ],
   "source": [
    "def is_first_last_same(lst):\n",
    "    return lst[0] == lst[-1]\n",
    "\n",
    "# Example usage:\n",
    "list_x = [10, 20, 30, 40, 10]\n",
    "list_y = [75, 65, 35, 75, 30]\n",
    "\n",
    "if is_first_last_same(list_x):\n",
    "    print(\"The first and last numbers in list_x are the same.\")\n",
    "else:\n",
    "    print(\"The first and last numbers in list_x are not the same.\")\n",
    "\n",
    "if is_first_last_same(list_y):\n",
    "    print(\"The first and last numbers in list_y are the same.\")\n",
    "else:\n",
    "    print(\"The first and last numbers in list_y are not the same.\")\n"
   ]
  }
 ],
 "metadata": {
  "kernelspec": {
   "display_name": "Python 3 (ipykernel)",
   "language": "python",
   "name": "python3"
  },
  "language_info": {
   "codemirror_mode": {
    "name": "ipython",
    "version": 3
   },
   "file_extension": ".py",
   "mimetype": "text/x-python",
   "name": "python",
   "nbconvert_exporter": "python",
   "pygments_lexer": "ipython3",
   "version": "3.11.5"
  }
 },
 "nbformat": 4,
 "nbformat_minor": 5
}
