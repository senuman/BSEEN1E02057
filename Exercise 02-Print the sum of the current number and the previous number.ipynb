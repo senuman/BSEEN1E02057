{
 "cells": [
  {
   "cell_type": "code",
   "execution_count": 1,
   "id": "2502debb",
   "metadata": {},
   "outputs": [
    {
     "name": "stdout",
     "output_type": "stream",
     "text": [
      "Current Number: 1, Previous Number: 0, Sum: 1\n",
      "Current Number: 2, Previous Number: 1, Sum: 3\n",
      "Current Number: 3, Previous Number: 2, Sum: 5\n",
      "Current Number: 4, Previous Number: 3, Sum: 7\n",
      "Current Number: 5, Previous Number: 4, Sum: 9\n",
      "Current Number: 6, Previous Number: 5, Sum: 11\n",
      "Current Number: 7, Previous Number: 6, Sum: 13\n",
      "Current Number: 8, Previous Number: 7, Sum: 15\n",
      "Current Number: 9, Previous Number: 8, Sum: 17\n",
      "Current Number: 10, Previous Number: 9, Sum: 19\n"
     ]
    }
   ],
   "source": [
    "# Iterate through the first 10 numbers\n",
    "for i in range(1, 11):\n",
    "    # Calculate the current number\n",
    "    current_number = i\n",
    "\n",
    "    # Calculate the previous number\n",
    "    previous_number = i - 1 if i > 1 else 0\n",
    "\n",
    "    # Calculate the sum of the current and previous number\n",
    "    sum_of_numbers = current_number + previous_number\n",
    "\n",
    "    # Print the result\n",
    "    print(f\"Current Number: {current_number}, Previous Number: {previous_number}, Sum: {sum_of_numbers}\")\n"
   ]
  }
 ],
 "metadata": {
  "kernelspec": {
   "display_name": "Python 3 (ipykernel)",
   "language": "python",
   "name": "python3"
  },
  "language_info": {
   "codemirror_mode": {
    "name": "ipython",
    "version": 3
   },
   "file_extension": ".py",
   "mimetype": "text/x-python",
   "name": "python",
   "nbconvert_exporter": "python",
   "pygments_lexer": "ipython3",
   "version": "3.11.5"
  }
 },
 "nbformat": 4,
 "nbformat_minor": 5
}
