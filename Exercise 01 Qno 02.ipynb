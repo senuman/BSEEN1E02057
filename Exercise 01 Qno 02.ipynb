{
 "cells": [
  {
   "cell_type": "code",
   "execution_count": 1,
   "id": "e63da42c",
   "metadata": {},
   "outputs": [
    {
     "name": "stdout",
     "output_type": "stream",
     "text": [
      "Result: 70\n"
     ]
    }
   ],
   "source": [
    "# Given numbers\n",
    "number1 = 40\n",
    "number2 = 30\n",
    "\n",
    "# Calculate the product\n",
    "product = number1 * number2\n",
    "\n",
    "# Check if the product is equal to or lower than 1000\n",
    "if product <= 1000:\n",
    "    result = product\n",
    "else:\n",
    "    # If the product is greater than 1000, calculate the sum instead\n",
    "    result = number1 + number2\n",
    "\n",
    "# Print the result\n",
    "print(\"Result:\", result)"
   ]
  }
 ],
 "metadata": {
  "kernelspec": {
   "display_name": "Python 3 (ipykernel)",
   "language": "python",
   "name": "python3"
  },
  "language_info": {
   "codemirror_mode": {
    "name": "ipython",
    "version": 3
   },
   "file_extension": ".py",
   "mimetype": "text/x-python",
   "name": "python",
   "nbconvert_exporter": "python",
   "pygments_lexer": "ipython3",
   "version": "3.11.5"
  }
 },
 "nbformat": 4,
 "nbformat_minor": 5
}
